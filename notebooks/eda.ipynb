{
 "cells": [
  {
   "cell_type": "code",
   "execution_count": 89,
   "id": "0ec51be0",
   "metadata": {
    "scrolled": true
   },
   "outputs": [],
   "source": [
    "import pandas as pd\n",
    "from tqdm import tqdm\n",
    "from scipy.sparse import dok_matrix\n",
    "import os\n",
    "import sys\n",
    "from stemming.porter2 import stem\n",
    "import numpy as np\n",
    "from sklearn.feature_extraction.text import TfidfTransformer"
   ]
  },
  {
   "cell_type": "code",
   "execution_count": 6,
   "id": "3f345477",
   "metadata": {},
   "outputs": [],
   "source": [
    "def lyrics_to_bow(lyrics):\n",
    "    \"\"\"\n",
    "    Main function to stem and create bag of words.\n",
    "    It is what we used for the musiXmatch dataset.\n",
    "    It is heavily oriented towards English lyrics, we apologize for that.\n",
    "    INPUT\n",
    "        lyrics as a string\n",
    "    RETURN\n",
    "        dictionary word -> count\n",
    "        or None if something was wrong (e.g. not enough words)\n",
    "    \"\"\"\n",
    "    # remove end of lines\n",
    "    lyrics_flat = lyrics.replace('\\r', '\\n').replace('\\n', ' ').lower()\n",
    "    lyrics_flat = ' ' + lyrics_flat + ' '\n",
    "    # special cases (English...)\n",
    "    lyrics_flat = lyrics_flat.replace(\"'m \", \" am \")\n",
    "    lyrics_flat = lyrics_flat.replace(\"'re \", \" are \")\n",
    "    lyrics_flat = lyrics_flat.replace(\"'ve \", \" have \")\n",
    "    lyrics_flat = lyrics_flat.replace(\"'d \", \" would \")\n",
    "    lyrics_flat = lyrics_flat.replace(\"'ll \", \" will \")\n",
    "    lyrics_flat = lyrics_flat.replace(\" he's \", \" he is \")\n",
    "    lyrics_flat = lyrics_flat.replace(\" she's \", \" she is \")\n",
    "    lyrics_flat = lyrics_flat.replace(\" it's \", \" it is \")\n",
    "    lyrics_flat = lyrics_flat.replace(\" ain't \", \" is not \")\n",
    "    lyrics_flat = lyrics_flat.replace(\"n't \", \" not \")\n",
    "    lyrics_flat = lyrics_flat.replace(\"'s \", \" \")\n",
    "    # remove boring punctuation and weird signs\n",
    "    punctuation = (',', \"'\", '\"', \",\", ';', ':', '.', '?', '!', '(', ')',\n",
    "                   '{', '}', '/', '\\\\', '_', '|', '-', '@', '#', '*')\n",
    "    for p in punctuation:\n",
    "        lyrics_flat = lyrics_flat.replace(p, '')\n",
    "    words = filter(lambda x: x.strip() != '', lyrics_flat.split(' '))\n",
    "    # stem words\n",
    "    words = map(lambda x: stem(x), words)\n",
    "    bow = {}\n",
    "    for w in words:\n",
    "        if not w in bow.keys():\n",
    "            bow[w] = 1\n",
    "        else:\n",
    "            bow[w] += 1\n",
    "    # remove special words that are wrong\n",
    "    fake_words = ('>', '<', 'outro~')\n",
    "    bowwords = bow.keys()\n",
    "    for bw in bowwords:\n",
    "        if bw in fake_words:\n",
    "            bow.pop(bw)\n",
    "        elif bw.find(']') >= 0:\n",
    "            bow.pop(bw)\n",
    "        elif bw.find('[') >= 0:\n",
    "            bow.pop(bw)\n",
    "    # not big enough? remove instrumental ones among others\n",
    "    if len(bow) <= 3:\n",
    "        return None\n",
    "    # done\n",
    "    return bow"
   ]
  },
  {
   "cell_type": "markdown",
   "id": "de9c8c5b",
   "metadata": {},
   "source": [
    "### song id mapping "
   ]
  },
  {
   "cell_type": "code",
   "execution_count": 82,
   "id": "05c13e47",
   "metadata": {},
   "outputs": [
    {
     "name": "stderr",
     "output_type": "stream",
     "text": [
      "100%|█████████████████████████████████████████████████████████████████████████| 779057/779057 [00:02<00:00, 346485.62it/s]\n"
     ]
    }
   ],
   "source": [
    "with open('../data/raw/mxm_779k_matches.txt', 'r') as f:\n",
    "    match = f.read()\n",
    "\n",
    "match = match.split('\\n')\n",
    "match_header = [el.replace('#','').replace(' ','') for el in match[7].split('|')]\n",
    "match_header\n",
    "match = match[18:]\n",
    "\n",
    "matchdf = []\n",
    "for line in tqdm(match):\n",
    "    matchdf.append(line.split('<SEP>'))\n",
    "    \n",
    "matchdf = pd.DataFrame(matchdf, columns=match_header)"
   ]
  },
  {
   "cell_type": "markdown",
   "id": "a2a32d54",
   "metadata": {},
   "source": [
    "### make tf-idf matrix from song-bow data"
   ]
  },
  {
   "cell_type": "code",
   "execution_count": 8,
   "id": "aec224f5",
   "metadata": {},
   "outputs": [],
   "source": [
    "with open('../data/raw/mxm_dataset_train.txt', 'r') as f:\n",
    "    data = f.read()\n",
    "\n",
    "data = data.split('\\n')\n",
    "header = data[17][1:].split(',')\n",
    "data = data[18:]"
   ]
  },
  {
   "cell_type": "code",
   "execution_count": 12,
   "id": "95cbe96b",
   "metadata": {},
   "outputs": [
    {
     "name": "stderr",
     "output_type": "stream",
     "text": [
      "100%|█████████████████████████████████████████████████████████████████████████████████| 200/200 [00:00<00:00, 1792.41it/s]\n"
     ]
    }
   ],
   "source": [
    "N = 200\n",
    "\n",
    "sparse_matrix = dok_matrix((N, 5000), dtype=int)\n",
    "id1 = []\n",
    "id2 = []\n",
    "for i, line in enumerate( tqdm(data[:N]) ):\n",
    "    line = line.split(',')\n",
    "    id1.append( line[0] )\n",
    "    id2.append( line[1] )\n",
    "    sparseline = line[2:]\n",
    "    \n",
    "    for item in sparseline:\n",
    "        index, count = item.split(':')\n",
    "        sparse_matrix[i, int(index)-1] = int(count)\n"
   ]
  },
  {
   "cell_type": "code",
   "execution_count": 99,
   "id": "d7706f15",
   "metadata": {},
   "outputs": [],
   "source": [
    "tfidf_transformer = TfidfTransformer()\n",
    "tfidf_matrix = tfidf_transformer.fit_transform(sparse_matrix).toarray()"
   ]
  },
  {
   "cell_type": "markdown",
   "id": "845b0ed6",
   "metadata": {},
   "source": [
    "### Match conversation with song"
   ]
  },
  {
   "cell_type": "code",
   "execution_count": 123,
   "id": "5f1014c8",
   "metadata": {},
   "outputs": [],
   "source": [
    "# future: Whisper speech2text\n",
    "speech2text = 'I saw a dog barking at a cat the other day. I am a cat lady, baby, a cat cat lady'\n",
    "convo_sparse = lyrics_to_bow(speech2text)"
   ]
  },
  {
   "cell_type": "code",
   "execution_count": 124,
   "id": "5c22c4a8",
   "metadata": {},
   "outputs": [],
   "source": [
    "convo_bow = np.zeros(5000)\n",
    "for key, val in convo_sparse.items():\n",
    "    if key in header:\n",
    "        convo_bow[ header.index(key) ] = val\n",
    "\n",
    "# map conversation bow with same tfidf tranformation as song dataset\n",
    "convo_tfidf = tfidf_transformer.transform(convo_bow.reshape(1,-1))"
   ]
  },
  {
   "cell_type": "code",
   "execution_count": 125,
   "id": "6c87dcd0",
   "metadata": {},
   "outputs": [
    {
     "data": {
      "text/html": [
       "<div>\n",
       "<style scoped>\n",
       "    .dataframe tbody tr th:only-of-type {\n",
       "        vertical-align: middle;\n",
       "    }\n",
       "\n",
       "    .dataframe tbody tr th {\n",
       "        vertical-align: top;\n",
       "    }\n",
       "\n",
       "    .dataframe thead th {\n",
       "        text-align: right;\n",
       "    }\n",
       "</style>\n",
       "<table border=\"1\" class=\"dataframe\">\n",
       "  <thead>\n",
       "    <tr style=\"text-align: right;\">\n",
       "      <th></th>\n",
       "      <th>tid</th>\n",
       "      <th>artistname</th>\n",
       "      <th>title</th>\n",
       "      <th>mxmtid</th>\n",
       "      <th>artist_name</th>\n",
       "      <th>title</th>\n",
       "    </tr>\n",
       "  </thead>\n",
       "  <tbody>\n",
       "    <tr>\n",
       "      <th>343592</th>\n",
       "      <td>TRAADYI128E078FB38</td>\n",
       "      <td>Lost Boyz</td>\n",
       "      <td>Certain Things We Do</td>\n",
       "      <td>1305577</td>\n",
       "      <td>Lost Boyz</td>\n",
       "      <td>Certain Things We Do</td>\n",
       "    </tr>\n",
       "  </tbody>\n",
       "</table>\n",
       "</div>"
      ],
      "text/plain": [
       "                       tid artistname                 title   mxmtid  \\\n",
       "343592  TRAADYI128E078FB38  Lost Boyz  Certain Things We Do  1305577   \n",
       "\n",
       "       artist_name                 title  \n",
       "343592   Lost Boyz  Certain Things We Do  "
      ]
     },
     "execution_count": 125,
     "metadata": {},
     "output_type": "execute_result"
    }
   ],
   "source": [
    "maxarg = np.argmax( np.dot(tfidf_matrix, convo_tfidf.reshape(-1,1).toarray()) )\n",
    "matchdf[ matchdf['tid'] == id1[maxarg] ]"
   ]
  },
  {
   "cell_type": "code",
   "execution_count": 126,
   "id": "ab6802f2",
   "metadata": {},
   "outputs": [
    {
     "data": {
      "text/html": [
       "<div>\n",
       "<style scoped>\n",
       "    .dataframe tbody tr th:only-of-type {\n",
       "        vertical-align: middle;\n",
       "    }\n",
       "\n",
       "    .dataframe tbody tr th {\n",
       "        vertical-align: top;\n",
       "    }\n",
       "\n",
       "    .dataframe thead th {\n",
       "        text-align: right;\n",
       "    }\n",
       "</style>\n",
       "<table border=\"1\" class=\"dataframe\">\n",
       "  <thead>\n",
       "    <tr style=\"text-align: right;\">\n",
       "      <th></th>\n",
       "      <th>tid</th>\n",
       "      <th>artistname</th>\n",
       "      <th>title</th>\n",
       "      <th>mxmtid</th>\n",
       "      <th>artist_name</th>\n",
       "      <th>title</th>\n",
       "    </tr>\n",
       "  </thead>\n",
       "  <tbody>\n",
       "    <tr>\n",
       "      <th>343434</th>\n",
       "      <td>TRAAJJO128F426B6AE</td>\n",
       "      <td>Mott The Hoople</td>\n",
       "      <td>American Pie</td>\n",
       "      <td>8229559</td>\n",
       "      <td>Mott the Hoople</td>\n",
       "      <td>American Pie</td>\n",
       "    </tr>\n",
       "  </tbody>\n",
       "</table>\n",
       "</div>"
      ],
      "text/plain": [
       "                       tid       artistname         title   mxmtid  \\\n",
       "343434  TRAAJJO128F426B6AE  Mott The Hoople  American Pie  8229559   \n",
       "\n",
       "            artist_name         title  \n",
       "343434  Mott the Hoople  American Pie  "
      ]
     },
     "execution_count": 126,
     "metadata": {},
     "output_type": "execute_result"
    }
   ],
   "source": [
    "maxarg = np.argmax( np.dot(sparse_matrix.todense(), convo_bow) )\n",
    "matchdf[ matchdf['tid'] == id1[maxarg] ]"
   ]
  },
  {
   "cell_type": "code",
   "execution_count": 1,
   "id": "adf9b729",
   "metadata": {},
   "outputs": [],
   "source": [
    "import whisper\n",
    "import torch"
   ]
  },
  {
   "cell_type": "code",
   "execution_count": 8,
   "id": "3e6318c8",
   "metadata": {},
   "outputs": [
    {
     "name": "stderr",
     "output_type": "stream",
     "text": [
      "100%|█████████████████████████████████████| 1.42G/1.42G [02:41<00:00, 9.47MiB/s]\n"
     ]
    }
   ],
   "source": [
    "# Load the model \n",
    "whisper_model = whisper.load_model(\"medium\", device='cpu')"
   ]
  },
  {
   "cell_type": "code",
   "execution_count": 9,
   "id": "efafe03f",
   "metadata": {
    "scrolled": false
   },
   "outputs": [
    {
     "name": "stderr",
     "output_type": "stream",
     "text": [
      "/Users/danielsvendsen/miniforge3/envs/creepyDJ/lib/python3.10/site-packages/whisper/transcribe.py:78: UserWarning: FP16 is not supported on CPU; using FP32 instead\n",
      "  warnings.warn(\"FP16 is not supported on CPU; using FP32 instead\")\n"
     ]
    },
    {
     "name": "stdout",
     "output_type": "stream",
     "text": [
      "CPU times: user 30.9 s, sys: 7.31 s, total: 38.2 s\n",
      "Wall time: 15.8 s\n"
     ]
    },
    {
     "data": {
      "text/plain": [
       "{'text': \" So, Jonathan, I'm just sitting here talking to some women. What are we talking about at the same time? Yeah, I don't know. We can also try to make some noise in the background while we're talking. So, what do you think about Donald Trump?\",\n",
       " 'segments': [{'id': 0,\n",
       "   'seek': 0,\n",
       "   'start': 0.0,\n",
       "   'end': 5.0,\n",
       "   'text': \" So, Jonathan, I'm just sitting here talking to some women.\",\n",
       "   'tokens': [407,\n",
       "    11,\n",
       "    15471,\n",
       "    11,\n",
       "    286,\n",
       "    478,\n",
       "    445,\n",
       "    3798,\n",
       "    510,\n",
       "    1417,\n",
       "    281,\n",
       "    512,\n",
       "    2266,\n",
       "    13],\n",
       "   'temperature': 0.0,\n",
       "   'avg_logprob': -0.4662783525992131,\n",
       "   'compression_ratio': 1.4352941176470588,\n",
       "   'no_speech_prob': 0.2605545222759247},\n",
       "  {'id': 1,\n",
       "   'seek': 0,\n",
       "   'start': 5.0,\n",
       "   'end': 6.0,\n",
       "   'text': ' What are we talking about at the same time?',\n",
       "   'tokens': [708, 366, 321, 1417, 466, 412, 264, 912, 565, 30],\n",
       "   'temperature': 0.0,\n",
       "   'avg_logprob': -0.4662783525992131,\n",
       "   'compression_ratio': 1.4352941176470588,\n",
       "   'no_speech_prob': 0.2605545222759247},\n",
       "  {'id': 2,\n",
       "   'seek': 0,\n",
       "   'start': 6.0,\n",
       "   'end': 7.0,\n",
       "   'text': \" Yeah, I don't know.\",\n",
       "   'tokens': [865, 11, 286, 500, 380, 458, 13],\n",
       "   'temperature': 0.0,\n",
       "   'avg_logprob': -0.4662783525992131,\n",
       "   'compression_ratio': 1.4352941176470588,\n",
       "   'no_speech_prob': 0.2605545222759247},\n",
       "  {'id': 3,\n",
       "   'seek': 0,\n",
       "   'start': 7.0,\n",
       "   'end': 11.0,\n",
       "   'text': \" We can also try to make some noise in the background while we're talking.\",\n",
       "   'tokens': [492,\n",
       "    393,\n",
       "    611,\n",
       "    853,\n",
       "    281,\n",
       "    652,\n",
       "    512,\n",
       "    5658,\n",
       "    294,\n",
       "    264,\n",
       "    3678,\n",
       "    1339,\n",
       "    321,\n",
       "    434,\n",
       "    1417,\n",
       "    13],\n",
       "   'temperature': 0.0,\n",
       "   'avg_logprob': -0.4662783525992131,\n",
       "   'compression_ratio': 1.4352941176470588,\n",
       "   'no_speech_prob': 0.2605545222759247},\n",
       "  {'id': 4,\n",
       "   'seek': 1100,\n",
       "   'start': 11.0,\n",
       "   'end': 30.0,\n",
       "   'text': ' So, what do you think about Donald Trump?',\n",
       "   'tokens': [50364, 407, 11, 437, 360, 291, 519, 466, 8632, 3899, 30, 51314],\n",
       "   'temperature': 0.0,\n",
       "   'avg_logprob': -0.33510380524855393,\n",
       "   'compression_ratio': 0.8367346938775511,\n",
       "   'no_speech_prob': 0.00616119522601366}],\n",
       " 'language': 'da'}"
      ]
     },
     "execution_count": 9,
     "metadata": {},
     "output_type": "execute_result"
    }
   ],
   "source": [
    "%%time\n",
    "whisper_model.transcribe('/Users/danielsvendsen/Desktop/visnakker.m4a', task = 'translate')"
   ]
  },
  {
   "cell_type": "code",
   "execution_count": 13,
   "id": "c086b638",
   "metadata": {
    "scrolled": false
   },
   "outputs": [
    {
     "name": "stderr",
     "output_type": "stream",
     "text": [
      "/Users/danielsvendsen/miniforge3/envs/creepyDJ/lib/python3.10/site-packages/whisper/transcribe.py:78: UserWarning: FP16 is not supported on CPU; using FP32 instead\n",
      "  warnings.warn(\"FP16 is not supported on CPU; using FP32 instead\")\n"
     ]
    },
    {
     "name": "stdout",
     "output_type": "stream",
     "text": [
      "CPU times: user 38 s, sys: 9.43 s, total: 47.4 s\n",
      "Wall time: 18.6 s\n"
     ]
    },
    {
     "data": {
      "text/plain": [
       "{'text': \" Ok... So Johardhand? I'm currently probably..... Maybe we might say something together? Alright. Fine though, we could maybe make some noise one last time... I saw a... Sony sent this to Donald Trop\",\n",
       " 'segments': [{'id': 0,\n",
       "   'seek': 0,\n",
       "   'start': 0.0,\n",
       "   'end': 3.0,\n",
       "   'text': ' Ok... So Johardhand?',\n",
       "   'tokens': [3477, 485, 407, 19180, 515, 5543, 30],\n",
       "   'temperature': 1.2,\n",
       "   'avg_logprob': -3.327481951032366,\n",
       "   'compression_ratio': 1.2236024844720497,\n",
       "   'no_speech_prob': 0.2605545222759247},\n",
       "  {'id': 1,\n",
       "   'seek': 0,\n",
       "   'start': 3.0,\n",
       "   'end': 5.0,\n",
       "   'text': \" I'm currently probably.....\",\n",
       "   'tokens': [286, 478, 4362, 1391, 13556],\n",
       "   'temperature': 1.2,\n",
       "   'avg_logprob': -3.327481951032366,\n",
       "   'compression_ratio': 1.2236024844720497,\n",
       "   'no_speech_prob': 0.2605545222759247},\n",
       "  {'id': 2,\n",
       "   'seek': 0,\n",
       "   'start': 5.0,\n",
       "   'end': 7.0200000000000005,\n",
       "   'text': ' Maybe we might say something together?',\n",
       "   'tokens': [2704, 321, 1062, 584, 746, 1214, 30],\n",
       "   'temperature': 1.2,\n",
       "   'avg_logprob': -3.327481951032366,\n",
       "   'compression_ratio': 1.2236024844720497,\n",
       "   'no_speech_prob': 0.2605545222759247},\n",
       "  {'id': 3,\n",
       "   'seek': 0,\n",
       "   'start': 7.0200000000000005,\n",
       "   'end': 11.0,\n",
       "   'text': ' Alright. Fine though, we could maybe make some noise one last time...',\n",
       "   'tokens': [2798,\n",
       "    13,\n",
       "    12024,\n",
       "    1673,\n",
       "    11,\n",
       "    321,\n",
       "    727,\n",
       "    1310,\n",
       "    652,\n",
       "    512,\n",
       "    5658,\n",
       "    472,\n",
       "    1036,\n",
       "    565,\n",
       "    485],\n",
       "   'temperature': 1.2,\n",
       "   'avg_logprob': -3.327481951032366,\n",
       "   'compression_ratio': 1.2236024844720497,\n",
       "   'no_speech_prob': 0.2605545222759247},\n",
       "  {'id': 4,\n",
       "   'seek': 1100,\n",
       "   'start': 11.0,\n",
       "   'end': 13.0,\n",
       "   'text': ' I saw a...',\n",
       "   'tokens': [286, 1866, 257, 485],\n",
       "   'temperature': 1.2,\n",
       "   'avg_logprob': -2.245492458343506,\n",
       "   'compression_ratio': 0.8431372549019608,\n",
       "   'no_speech_prob': 0.09952038526535034},\n",
       "  {'id': 5,\n",
       "   'seek': 1300,\n",
       "   'start': 13.0,\n",
       "   'end': 35.42,\n",
       "   'text': ' Sony sent this to',\n",
       "   'tokens': [13575, 2279, 341, 281],\n",
       "   'temperature': 1.2,\n",
       "   'avg_logprob': -4.683069229125977,\n",
       "   'compression_ratio': 0.7837837837837838,\n",
       "   'no_speech_prob': 0.033990681171417236},\n",
       "  {'id': 6,\n",
       "   'seek': 1300,\n",
       "   'start': 35.42,\n",
       "   'end': 40.24,\n",
       "   'text': ' Donald Trop',\n",
       "   'tokens': [8632, 43917],\n",
       "   'temperature': 1.2,\n",
       "   'avg_logprob': -4.683069229125977,\n",
       "   'compression_ratio': 0.7837837837837838,\n",
       "   'no_speech_prob': 0.033990681171417236}],\n",
       " 'language': 'da'}"
      ]
     },
     "execution_count": 13,
     "metadata": {},
     "output_type": "execute_result"
    }
   ],
   "source": [
    "%%time\n",
    "whisper_model.transcribe('/Users/danielsvendsen/Desktop/visnakker.m4a', task = 'translate', temperature=1.2)"
   ]
  },
  {
   "cell_type": "code",
   "execution_count": null,
   "id": "077b11f3",
   "metadata": {},
   "outputs": [],
   "source": []
  }
 ],
 "metadata": {
  "kernelspec": {
   "display_name": "Python 3 (ipykernel)",
   "language": "python",
   "name": "python3"
  },
  "language_info": {
   "codemirror_mode": {
    "name": "ipython",
    "version": 3
   },
   "file_extension": ".py",
   "mimetype": "text/x-python",
   "name": "python",
   "nbconvert_exporter": "python",
   "pygments_lexer": "ipython3",
   "version": "3.10.9"
  }
 },
 "nbformat": 4,
 "nbformat_minor": 5
}
